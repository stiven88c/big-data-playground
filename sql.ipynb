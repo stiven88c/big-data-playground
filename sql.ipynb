{
 "cells": [
  {
   "cell_type": "code",
   "execution_count": 131,
   "metadata": {},
   "outputs": [],
   "source": [
    "import sqlite3\n",
    "import pandas as pd"
   ]
  },
  {
   "cell_type": "code",
   "execution_count": 132,
   "metadata": {},
   "outputs": [],
   "source": [
    "DATA_DIR = 'data/'"
   ]
  },
  {
   "cell_type": "code",
   "execution_count": 133,
   "metadata": {},
   "outputs": [],
   "source": [
    "conn = sqlite3.connect('test.db')\n",
    "cur = conn.cursor()\n",
    "\n",
    "# Drop table from previous sessions\n",
    "cur.execute('DROP TABLE IF EXISTS temperatures')\n",
    "cur.execute('DROP TABLE IF EXISTS cities')\n",
    "\n",
    "conn.commit()"
   ]
  },
  {
   "cell_type": "code",
   "execution_count": 134,
   "metadata": {},
   "outputs": [],
   "source": [
    "cur.execute('''\n",
    "    CREATE TABLE IF NOT EXISTS cities (\n",
    "        id INTEGER PRIMARY KEY AUTOINCREMENT,\n",
    "        name TEXT,\n",
    "        country TEXT  \n",
    "    )\n",
    "''')\n",
    "conn.commit()"
   ]
  },
  {
   "cell_type": "code",
   "execution_count": 135,
   "metadata": {},
   "outputs": [],
   "source": [
    "cur.execute('''\n",
    "                CREATE TABLE IF NOT EXISTS temperatures (\n",
    "                    id INTEGER PRIMARY KEY AUTOINCREMENT,\n",
    "                    timestamp TEXT,\n",
    "                    temperature REAL,\n",
    "                    city_id INTEGER\n",
    "                )\n",
    "            ''')\n",
    "conn.commit()"
   ]
  },
  {
   "cell_type": "code",
   "execution_count": 136,
   "metadata": {},
   "outputs": [],
   "source": [
    "def insert_temps_from_csv(file_path, city_name):\n",
    "    # Find header row\n",
    "    header_row = -1\n",
    "    with open(file_path, 'r') as fp:\n",
    "        for i, line in enumerate(fp):\n",
    "            if line.startswith('Datum;Tid (UTC)'):\n",
    "                header_row = i\n",
    "                break\n",
    "\n",
    "    if (header_row < 0):\n",
    "        print(\"Could not find header in file!\")\n",
    "        return\n",
    "\n",
    "    data = pd.read_csv(file_path, sep=\";\", skiprows=header_row)\n",
    "    data['DatumTid'] = data['Datum'] + ' ' + data['Tid (UTC)']\n",
    "\n",
    "    data = data[['DatumTid', 'Lufttemperatur']]\n",
    "\n",
    "    city_id_resp = cur.execute('SELECT id FROM cities WHERE name = ?', (city_name, )).fetchone()\n",
    "    if city_id_resp is None:\n",
    "        print(f\"City {city_name} not found, adding it!\")\n",
    "        resp = cur.execute('''\n",
    "            INSERT INTO cities (name, country) VALUES (?, ?)\n",
    "        ''', (city_name, 'Sweden'))\n",
    "        city_id = resp.lastrowid\n",
    "    else:\n",
    "        city_id = city_id_resp[0]\n",
    "\n",
    "    for row in data.itertuples():\n",
    "        cur.execute('''\n",
    "                        INSERT INTO temperatures (timestamp, temperature, city_id)\n",
    "                        VALUES (?, ?, ?)\n",
    "                    ''', (row[1], row[2], city_id))\n",
    "    \n",
    "    conn.commit()"
   ]
  },
  {
   "cell_type": "code",
   "execution_count": 137,
   "metadata": {},
   "outputs": [
    {
     "name": "stderr",
     "output_type": "stream",
     "text": [
      "/var/folders/pg/6tvtzc815214nstb4nc45dcw0000gn/T/ipykernel_5484/1973754284.py:14: DtypeWarning: Columns (5) have mixed types. Specify dtype option on import or set low_memory=False.\n",
      "  data = pd.read_csv(file_path, sep=\";\", skiprows=header_row)\n"
     ]
    },
    {
     "name": "stdout",
     "output_type": "stream",
     "text": [
      "City Uppsala not found, adding it!\n",
      "City Luleå not found, adding it!\n"
     ]
    },
    {
     "name": "stderr",
     "output_type": "stream",
     "text": [
      "/var/folders/pg/6tvtzc815214nstb4nc45dcw0000gn/T/ipykernel_5484/1973754284.py:14: DtypeWarning: Columns (5) have mixed types. Specify dtype option on import or set low_memory=False.\n",
      "  data = pd.read_csv(file_path, sep=\";\", skiprows=header_row)\n"
     ]
    },
    {
     "name": "stdout",
     "output_type": "stream",
     "text": [
      "City Göteborg not found, adding it!\n"
     ]
    }
   ],
   "source": [
    "insert_temps_from_csv(DATA_DIR + 'temp-uppsala.csv', 'Uppsala')\n",
    "insert_temps_from_csv(DATA_DIR + 'temp-lulea.csv', 'Luleå')\n",
    "insert_temps_from_csv(DATA_DIR + 'temp-goteborg.csv', 'Göteborg')"
   ]
  },
  {
   "cell_type": "code",
   "execution_count": 128,
   "metadata": {},
   "outputs": [
    {
     "name": "stdout",
     "output_type": "stream",
     "text": [
      "(33.3, -23.4, 'Göteborg')\n",
      "(34.0, -39.7, 'Luleå')\n",
      "(33.3, -27.6, 'Uppsala')\n"
     ]
    }
   ],
   "source": [
    "# cur.execute('SELECT * FROM temperatures WHERE temperature > 30')\n",
    "# user = cur.fetchone()\n",
    "\n",
    "for row in cur.execute(\"\"\"\n",
    "                        SELECT MAX(temperatures.temperature), MIN(temperatures.temperature), cities.name FROM temperatures\n",
    "                        JOIN cities ON temperatures.city_id = cities.id\n",
    "                        GROUP BY cities.name\n",
    "                        LIMIT 10\n",
    "                       \"\"\"):\n",
    "    print(row)"
   ]
  },
  {
   "cell_type": "code",
   "execution_count": 115,
   "metadata": {},
   "outputs": [
    {
     "name": "stdout",
     "output_type": "stream",
     "text": [
      "Rast och eget arbete till 14:15!\n"
     ]
    }
   ],
   "source": [
    "print(cur.execute(\"SELECT 'Rast och eget arbete till 14:15!'\").fetchone()[0])"
   ]
  },
  {
   "cell_type": "code",
   "execution_count": 116,
   "metadata": {},
   "outputs": [],
   "source": [
    "conn.close()"
   ]
  }
 ],
 "metadata": {
  "kernelspec": {
   "display_name": ".venv",
   "language": "python",
   "name": "python3"
  },
  "language_info": {
   "codemirror_mode": {
    "name": "ipython",
    "version": 3
   },
   "file_extension": ".py",
   "mimetype": "text/x-python",
   "name": "python",
   "nbconvert_exporter": "python",
   "pygments_lexer": "ipython3",
   "version": "3.11.0"
  }
 },
 "nbformat": 4,
 "nbformat_minor": 2
}
